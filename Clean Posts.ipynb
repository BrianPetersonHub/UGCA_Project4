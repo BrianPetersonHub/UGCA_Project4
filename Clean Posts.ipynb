{
 "cells": [
  {
   "cell_type": "code",
   "execution_count": 1,
   "metadata": {},
   "outputs": [],
   "source": [
    "import json"
   ]
  },
  {
   "cell_type": "code",
   "execution_count": 27,
   "metadata": {},
   "outputs": [],
   "source": [
    "with open(\"posts.json\") as f:\n",
    "    j = json.load(f)"
   ]
  },
  {
   "cell_type": "markdown",
   "metadata": {},
   "source": [
    "The file is in the following format. Note - EVERY key and value is of type string.\n",
    "    \n",
    "    { post_id : [ image_url, description, likes, comments ],\n",
    "    \n",
    "        '3'   : [ 'https://abc/file.jpg', 'cool pic', '43.2k', '235' ],\n",
    "    }"
   ]
  },
  {
   "cell_type": "code",
   "execution_count": 32,
   "metadata": {},
   "outputs": [
    {
     "data": {
      "text/plain": [
       "['https://instagram.fftw1-1.fna.fbcdn.net/vp/90162fdf8b7a5a2580a511a17197cdb4/5C67293E/t51.2885-15/e15/c181.0.718.718/s640x640/44904753_194498844802328_8238377254064471543_n.jpg',\n",
       " 'Photo by @amivitale | Ntipiyon Nonguta and her son Bernard, one, relax with their neighbors as they make beaded belts for theLoisaba Community Trust in Ewaso Village in Laikipia, Kenya. These women are in a community surrounding Loisaba Conservancy (@loisaba_conservancy) and are being supported and given access to international markets. Revenue from ecotourism is reinvested into neighboring communities like #Ewaso.\\n\\nTo get involved and learn more about community based conservation, please follow @loisaba_conservancy and @amivitale.\\n\\n@nature_org @natgeoimagecollection #kenya #magicalkenya #whyilovekenya #northernkenya #africa #children #mothersandsons #mothers #empowerment #conservation #everydayafrica #photojournalism #amivitale',\n",
       " '75.2k',\n",
       " '329']"
      ]
     },
     "execution_count": 32,
     "metadata": {},
     "output_type": "execute_result"
    }
   ],
   "source": [
    "j['2']"
   ]
  },
  {
   "cell_type": "markdown",
   "metadata": {},
   "source": [
    "Check for duplicate urls"
   ]
  },
  {
   "cell_type": "code",
   "execution_count": 13,
   "metadata": {},
   "outputs": [],
   "source": [
    "urls = [j[i][0] for i in j]"
   ]
  },
  {
   "cell_type": "code",
   "execution_count": 14,
   "metadata": {},
   "outputs": [
    {
     "data": {
      "text/plain": [
       "True"
      ]
     },
     "execution_count": 14,
     "metadata": {},
     "output_type": "execute_result"
    }
   ],
   "source": [
    "len(urls) == len(set(urls))"
   ]
  },
  {
   "cell_type": "markdown",
   "metadata": {},
   "source": [
    "Thank god"
   ]
  },
  {
   "cell_type": "markdown",
   "metadata": {},
   "source": [
    "Now, check urls for video files"
   ]
  },
  {
   "cell_type": "code",
   "execution_count": 24,
   "metadata": {},
   "outputs": [
    {
     "data": {
      "text/plain": [
       "[]"
      ]
     },
     "execution_count": 24,
     "metadata": {},
     "output_type": "execute_result"
    }
   ],
   "source": [
    "[url for url in urls if '.jpg' != url[-4:] ]"
   ]
  },
  {
   "cell_type": "code",
   "execution_count": 26,
   "metadata": {},
   "outputs": [
    {
     "data": {
      "text/plain": [
       "'.jpg'"
      ]
     },
     "execution_count": 26,
     "metadata": {},
     "output_type": "execute_result"
    }
   ],
   "source": [
    "urls[0][-4:]"
   ]
  },
  {
   "cell_type": "markdown",
   "metadata": {},
   "source": [
    "Turns out, I grabbed the thumbnails of the videos in addition to the images. Is this something worth fixing? To fix it, it might be easiest to have a for loop and use bs4 rather than fight with IG again."
   ]
  }
 ],
 "metadata": {
  "kernelspec": {
   "display_name": "Python 3",
   "language": "python",
   "name": "python3"
  },
  "language_info": {
   "codemirror_mode": {
    "name": "ipython",
    "version": 3
   },
   "file_extension": ".py",
   "mimetype": "text/x-python",
   "name": "python",
   "nbconvert_exporter": "python",
   "pygments_lexer": "ipython3",
   "version": "3.6.5"
  }
 },
 "nbformat": 4,
 "nbformat_minor": 2
}
